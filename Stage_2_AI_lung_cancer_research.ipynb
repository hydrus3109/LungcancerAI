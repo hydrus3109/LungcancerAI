{
  "cells": [
    {
      "cell_type": "markdown",
      "metadata": {
        "id": "Zq8us6MuiutY"
      },
      "source": [
        "\n",
        "\n",
        "# Defining libraries and processing data from the dataset"
      ]
    },
    {
      "cell_type": "code",
      "execution_count": null,
      "metadata": {
        "id": "e6o0KXUrmKvb",
        "colab": {
          "base_uri": "https://localhost:8080/"
        },
        "outputId": "1ae5ad54-b995-49c4-a881-46dcc5f952dd"
      },
      "outputs": [
        {
          "output_type": "stream",
          "name": "stdout",
          "text": [
            "Collecting pydicom\n",
            "  Downloading pydicom-2.4.3-py3-none-any.whl (1.8 MB)\n",
            "\u001b[2K     \u001b[90m━━━━━━━━━━━━━━━━━━━━━━━━━━━━━━━━━━━━━━━━\u001b[0m \u001b[32m1.8/1.8 MB\u001b[0m \u001b[31m14.3 MB/s\u001b[0m eta \u001b[36m0:00:00\u001b[0m\n",
            "\u001b[?25hInstalling collected packages: pydicom\n",
            "Successfully installed pydicom-2.4.3\n"
          ]
        }
      ],
      "source": [
        "\n",
        "#importing the required libraries\n",
        "import numpy as np\n",
        "import tensorflow as tf\n",
        "from tensorflow import keras\n",
        "from tensorflow.keras import layers\n",
        "from tensorflow.keras.datasets import mnist\n",
        "from tensorflow.keras.models import Sequential\n",
        "from tensorflow.keras.layers import Conv2D\n",
        "from tensorflow.keras.layers import MaxPool2D\n",
        "from tensorflow.keras.layers import Flatten\n",
        "from tensorflow.keras.layers import Dropout\n",
        "from tensorflow.keras.layers import Dense\n",
        "!pip install pydicom\n",
        "import pydicom\n",
        "from pydicom.pixel_data_handlers.util import apply_voi_lut\n",
        "import torch\n",
        "import matplotlib.pyplot as plt\n",
        "%matplotlib inline\n",
        "import sklearn\n",
        "from sklearn import svm\n",
        "from sklearn.ensemble import RandomForestClassifier\n",
        "from sklearn.tree import DecisionTreeClassifier\n",
        "from sklearn.model_selection import train_test_split\n",
        "from sklearn.discriminant_analysis import LinearDiscriminantAnalysis as LDA\n",
        "from sklearn.naive_bayes import GaussianNB\n",
        "from sklearn import metrics\n",
        "from sklearn.metrics import confusion_matrix"
      ]
    },
    {
      "cell_type": "code",
      "execution_count": null,
      "metadata": {
        "colab": {
          "base_uri": "https://localhost:8080/",
          "height": 17
        },
        "id": "bDwQ4lh88WuZ",
        "outputId": "9af2a81f-b355-4b44-fa93-447aafa74a5e"
      },
      "outputs": [
        {
          "data": {
            "application/javascript": [
              "function ClickConnect(){\n",
              "console.log(\"Working\");\n",
              "document.querySelector(\"colab-toolbar-button#connect\").click()\n",
              "}setInterval(ClickConnect,60000)\n"
            ],
            "text/plain": [
              "<IPython.core.display.Javascript object>"
            ]
          },
          "metadata": {},
          "output_type": "display_data"
        }
      ],
      "source": [
        "%%javascript\n",
        "function ClickConnect(){\n",
        "console.log(\"Working\");\n",
        "document.querySelector(\"colab-toolbar-button#connect\").click()\n",
        "}setInterval(ClickConnect,60000)"
      ]
    },
    {
      "cell_type": "code",
      "execution_count": null,
      "metadata": {
        "colab": {
          "base_uri": "https://localhost:8080/"
        },
        "id": "FDn1tP2869jS",
        "outputId": "957d4800-6222-4000-e4a0-3092f195f0e8"
      },
      "outputs": [
        {
          "name": "stdout",
          "output_type": "stream",
          "text": [
            "NVIDIA-SMI has failed because it couldn't communicate with the NVIDIA driver. Make sure that the latest NVIDIA driver is installed and running.\n",
            "\n"
          ]
        }
      ],
      "source": [
        "!nvidia-smi"
      ]
    },
    {
      "cell_type": "code",
      "execution_count": null,
      "metadata": {
        "colab": {
          "base_uri": "https://localhost:8080/"
        },
        "id": "XyYNMRf87hKN",
        "outputId": "2bf19366-214a-4de9-a3da-bb7bb87c8079"
      },
      "outputs": [
        {
          "name": "stdout",
          "output_type": "stream",
          "text": [
            "Using device: cuda\n",
            "\n",
            "Tesla T4\n",
            "Memory Usage:\n",
            "Allocated: 0.0 GB\n",
            "Cached:    0.0 GB\n"
          ]
        },
        {
          "name": "stderr",
          "output_type": "stream",
          "text": [
            "/usr/local/lib/python3.7/dist-packages/torch/cuda/memory.py:393: FutureWarning: torch.cuda.memory_cached has been renamed to torch.cuda.memory_reserved\n",
            "  FutureWarning)\n"
          ]
        }
      ],
      "source": [
        "import torch\n",
        "\n",
        "# setting device on GPU if available, else CPU\n",
        "device = torch.device('cuda' if torch.cuda.is_available() else 'cpu')\n",
        "print('Using device:', device)\n",
        "print()\n",
        "\n",
        "#Additional Info when using cuda\n",
        "if device.type == 'cuda':\n",
        "    print(torch.cuda.get_device_name(0))\n",
        "    print('Memory Usage:')\n",
        "    print('Allocated:', round(torch.cuda.memory_allocated(0)/1024**3,1), 'GB')\n",
        "    print('Cached:   ', round(torch.cuda.memory_cached(0)/1024**3,1), 'GB')"
      ]
    },
    {
      "cell_type": "markdown",
      "metadata": {
        "id": "E4Yjn0KjgIJN"
      },
      "source": [
        "Data preprocessing"
      ]
    },
    {
      "cell_type": "code",
      "execution_count": null,
      "metadata": {
        "id": "tmjUrbj-uZSw",
        "colab": {
          "base_uri": "https://localhost:8080/",
          "height": 383
        },
        "outputId": "cb9c57ef-4736-4206-e820-fa8f09b5fd0b"
      },
      "outputs": [
        {
          "output_type": "stream",
          "name": "stdout",
          "text": [
            "Mounted at /content/drive\n"
          ]
        },
        {
          "output_type": "error",
          "ename": "FileNotFoundError",
          "evalue": "ignored",
          "traceback": [
            "\u001b[0;31m---------------------------------------------------------------------------\u001b[0m",
            "\u001b[0;31mFileNotFoundError\u001b[0m                         Traceback (most recent call last)",
            "\u001b[0;32m<ipython-input-2-fd33623e867b>\u001b[0m in \u001b[0;36m<cell line: 29>\u001b[0;34m()\u001b[0m\n\u001b[1;32m     29\u001b[0m \u001b[0;32mfor\u001b[0m \u001b[0mi\u001b[0m \u001b[0;32min\u001b[0m \u001b[0mrange\u001b[0m \u001b[0;34m(\u001b[0m\u001b[0;36m1\u001b[0m\u001b[0;34m,\u001b[0m\u001b[0;36m1000\u001b[0m\u001b[0;34m)\u001b[0m\u001b[0;34m:\u001b[0m\u001b[0;34m\u001b[0m\u001b[0;34m\u001b[0m\u001b[0m\n\u001b[1;32m     30\u001b[0m   \u001b[0mpath\u001b[0m \u001b[0;34m=\u001b[0m \u001b[0;34m\"/content/drive/MyDrive/research_data/stage1/image\"\u001b[0m \u001b[0;34m+\u001b[0m \u001b[0;34m\" (\"\u001b[0m \u001b[0;34m+\u001b[0m \u001b[0mstr\u001b[0m\u001b[0;34m(\u001b[0m\u001b[0mi\u001b[0m\u001b[0;34m)\u001b[0m \u001b[0;34m+\u001b[0m \u001b[0;34m\").dcm\"\u001b[0m\u001b[0;34m\u001b[0m\u001b[0;34m\u001b[0m\u001b[0m\n\u001b[0;32m---> 31\u001b[0;31m   \u001b[0mdicom\u001b[0m \u001b[0;34m=\u001b[0m \u001b[0mpydicom\u001b[0m\u001b[0;34m.\u001b[0m\u001b[0mread_file\u001b[0m\u001b[0;34m(\u001b[0m\u001b[0mpath\u001b[0m\u001b[0;34m)\u001b[0m\u001b[0;34m\u001b[0m\u001b[0;34m\u001b[0m\u001b[0m\n\u001b[0m\u001b[1;32m     32\u001b[0m   \u001b[0;32mif\u001b[0m \u001b[0;34m'Image Storage'\u001b[0m \u001b[0;32mnot\u001b[0m \u001b[0;32min\u001b[0m \u001b[0mdicom\u001b[0m\u001b[0;34m.\u001b[0m\u001b[0mSOPClassUID\u001b[0m\u001b[0;34m.\u001b[0m\u001b[0mname\u001b[0m\u001b[0;34m:\u001b[0m\u001b[0;34m\u001b[0m\u001b[0;34m\u001b[0m\u001b[0m\n\u001b[1;32m     33\u001b[0m    \u001b[0;32mcontinue\u001b[0m\u001b[0;34m\u001b[0m\u001b[0;34m\u001b[0m\u001b[0m\n",
            "\u001b[0;32m/usr/local/lib/python3.10/dist-packages/pydicom/filereader.py\u001b[0m in \u001b[0;36mdcmread\u001b[0;34m(fp, defer_size, stop_before_pixels, force, specific_tags)\u001b[0m\n\u001b[1;32m   1000\u001b[0m         \u001b[0mcaller_owns_file\u001b[0m \u001b[0;34m=\u001b[0m \u001b[0;32mFalse\u001b[0m\u001b[0;34m\u001b[0m\u001b[0;34m\u001b[0m\u001b[0m\n\u001b[1;32m   1001\u001b[0m         \u001b[0mlogger\u001b[0m\u001b[0;34m.\u001b[0m\u001b[0mdebug\u001b[0m\u001b[0;34m(\u001b[0m\u001b[0;34m\"Reading file '{0}'\"\u001b[0m\u001b[0;34m.\u001b[0m\u001b[0mformat\u001b[0m\u001b[0;34m(\u001b[0m\u001b[0mfp\u001b[0m\u001b[0;34m)\u001b[0m\u001b[0;34m)\u001b[0m\u001b[0;34m\u001b[0m\u001b[0;34m\u001b[0m\u001b[0m\n\u001b[0;32m-> 1002\u001b[0;31m         \u001b[0mfp\u001b[0m \u001b[0;34m=\u001b[0m \u001b[0mopen\u001b[0m\u001b[0;34m(\u001b[0m\u001b[0mfp\u001b[0m\u001b[0;34m,\u001b[0m \u001b[0;34m'rb'\u001b[0m\u001b[0;34m)\u001b[0m\u001b[0;34m\u001b[0m\u001b[0;34m\u001b[0m\u001b[0m\n\u001b[0m\u001b[1;32m   1003\u001b[0m     \u001b[0;32melif\u001b[0m \u001b[0mfp\u001b[0m \u001b[0;32mis\u001b[0m \u001b[0;32mNone\u001b[0m \u001b[0;32mor\u001b[0m \u001b[0;32mnot\u001b[0m \u001b[0mhasattr\u001b[0m\u001b[0;34m(\u001b[0m\u001b[0mfp\u001b[0m\u001b[0;34m,\u001b[0m \u001b[0;34m\"read\"\u001b[0m\u001b[0;34m)\u001b[0m \u001b[0;32mor\u001b[0m \u001b[0;32mnot\u001b[0m \u001b[0mhasattr\u001b[0m\u001b[0;34m(\u001b[0m\u001b[0mfp\u001b[0m\u001b[0;34m,\u001b[0m \u001b[0;34m\"seek\"\u001b[0m\u001b[0;34m)\u001b[0m\u001b[0;34m:\u001b[0m\u001b[0;34m\u001b[0m\u001b[0;34m\u001b[0m\u001b[0m\n\u001b[1;32m   1004\u001b[0m         raise TypeError(\"dcmread: Expected a file path or a file-like, \"\n",
            "\u001b[0;31mFileNotFoundError\u001b[0m: [Errno 2] No such file or directory: '/content/drive/MyDrive/research_data/stage1/image (1).dcm'"
          ]
        }
      ],
      "source": [
        "from google.colab import drive\n",
        "drive.mount('/content/drive')\n",
        "\n",
        "\n",
        "class Dataset(torch.utils.data.Dataset):\n",
        "  'Characterizes a dataset for PyTorch'\n",
        "  def __init__(self, list_IDs, labels):\n",
        "        'Initialization'\n",
        "        self.labels = labels\n",
        "        self.list_IDs = list_IDs\n",
        "\n",
        "  def __len__(self):\n",
        "        'Denotes the total number of samples'\n",
        "        return len(self.list_IDs)\n",
        "\n",
        "  def __getitem__(self, index):\n",
        "        'Generates one sample of data'\n",
        "        # Select sample\n",
        "        ID = self.list_IDs[index]\n",
        "\n",
        "        # Load data and get label\n",
        "        X = torch.as_tensor( ID )\n",
        "        y = self.labels[index]\n",
        "\n",
        "        return X, y\n",
        "\n",
        "patients = []\n",
        "labels = []\n",
        "for i in range (1,1000):\n",
        "  path = \"/content/drive/MyDrive/research_data/stage1/image\" + \" (\" + str(i) + \").dcm\"\n",
        "  dicom = pydicom.read_file(path)\n",
        "  if 'Image Storage' not in dicom.SOPClassUID.name:\n",
        "   continue\n",
        "  data_voi = apply_voi_lut(dicom.pixel_array, dicom)\n",
        "  data = dicom.pixel_array\n",
        "  data_voi = data_voi - np.min(data_voi)\n",
        "  data_voi = data_voi / np.max(data_voi)\n",
        "  data_voi = (data_voi * 255).astype(np.uint8)\n",
        "  patients.append(data_voi)\n",
        "  labels.append(0)\n",
        "\n",
        "for i in range (1,1000):\n",
        "  path = \"/content/drive/MyDrive/research_data/stage2/image\" + \" (\" + str(i) + \").dcm\"\n",
        "  dicom = pydicom.read_file(path)\n",
        "  if 'Image Storage' not in dicom.SOPClassUID.name:\n",
        "   continue\n",
        "  data_voi = apply_voi_lut(dicom.pixel_array, dicom)\n",
        "  data = dicom.pixel_array\n",
        "  data_voi = data_voi - np.min(data_voi)\n",
        "  data_voi = data_voi / np.max(data_voi)\n",
        "  data_voi = (data_voi * 255).astype(np.uint8)\n",
        "  patients.append(data_voi)\n",
        "  labels.append(1)\n",
        "for i in range (1,2000):\n",
        "  path = \"/content/drive/MyDrive/research_data/stage3a/image\" + \" (\" + str(i) + \").dcm\"\n",
        "  dicom = pydicom.read_file(path)\n",
        "  if 'Image Storage' not in dicom.SOPClassUID.name:\n",
        "   continue  # to skip the rest of the loop\n",
        "  data_voi = apply_voi_lut(dicom.pixel_array, dicom)\n",
        "  data = dicom.pixel_array\n",
        "  data_voi = data_voi - np.min(data_voi)\n",
        "  data_voi = data_voi / np.max(data_voi)\n",
        "  data_voi = (data_voi * 255).astype(np.uint8)\n",
        "  patients.append(data_voi)\n",
        "  labels.append(2)\n",
        "for i in range (1,2000):\n",
        "  path = \"/content/drive/MyDrive/research_data/stage3b/image\" + \" (\" + str(i) + \").dcm\"\n",
        "  dicom = pydicom.read_file(path)\n",
        "  if 'Image Storage' not in dicom.SOPClassUID.name:\n",
        "   continue  # to skip the rest of the loop\n",
        "  data_voi = apply_voi_lut(dicom.pixel_array, dicom)\n",
        "  data = dicom.pixel_array\n",
        "  data_voi = data_voi - np.min(data_voi)\n",
        "  data_voi = data_voi / np.max(data_voi)\n",
        "  data_voi = (data_voi * 255).astype(np.uint8)\n",
        "  patients.append(data_voi)\n",
        "  labels.append(3)\n",
        "\n",
        "patient_train, patient_test, label_train, label_test = train_test_split( patients, labels, test_size=0.33, random_state=42)\n",
        "train_dataset = Dataset(patient_train, label_train)\n",
        "validation_dataset = Dataset(patient_test, label_test)\n",
        "plt.figure(figsize = (12,12))\n",
        "plt.imshow(data_voi, 'gray')\n",
        "row = len(patient_train[2])\n",
        "row"
      ]
    },
    {
      "cell_type": "code",
      "execution_count": null,
      "metadata": {
        "id": "Eaa4TLtZ9rmH"
      },
      "outputs": [],
      "source": [
        "patient_train = np.array(patient_train)\n",
        "patient_test = np.array(patient_test)\n",
        "label_train = np.array(label_train)\n",
        "label_test = np.array(label_test)\n"
      ]
    },
    {
      "cell_type": "markdown",
      "metadata": {
        "id": "aQonUysrgMBF"
      },
      "source": [
        "data shape for model fitting"
      ]
    },
    {
      "cell_type": "code",
      "execution_count": null,
      "metadata": {
        "colab": {
          "base_uri": "https://localhost:8080/"
        },
        "id": "4b6YtHyLuIgH",
        "outputId": "28bfd061-811d-434d-83b0-eabbf64caa96"
      },
      "outputs": [
        {
          "name": "stdout",
          "output_type": "stream",
          "text": [
            "(3578, 512, 512)\n",
            "(1763, 512, 512)\n"
          ]
        }
      ],
      "source": [
        "#loading data\n",
        "\n",
        "#(X_train,y_train) , (X_test,y_test)=mnist.load_data()\n",
        "#reshaping data\n",
        "#X_train = X_train.reshape((X_train.shape[0], X_train.shape[1], X_train.shape[2], 1))\n",
        "#X_test = X_test.reshape((X_test.shape[0],X_test.shape[1],X_test.shape[2],1))\n",
        "#checking the shape after reshaping\n",
        "print(np.shape(patient_train))\n",
        "print(np.shape(patient_test))\n",
        "#normalizing the pixel values\n",
        "#X_train=X_train/255\n",
        "#X_test=X_test/255"
      ]
    },
    {
      "cell_type": "markdown",
      "metadata": {
        "id": "JsAuFxpvi6zI"
      },
      "source": [
        "# CNN Models"
      ]
    },
    {
      "cell_type": "markdown",
      "metadata": {
        "id": "dd_BCzt8jghD"
      },
      "source": [
        "Personal CNN model"
      ]
    },
    {
      "cell_type": "code",
      "execution_count": null,
      "metadata": {
        "colab": {
          "base_uri": "https://localhost:8080/"
        },
        "id": "U-W2mpoNuPSM",
        "outputId": "8fca7e8e-6256-4fc7-b228-eb21f5c05f72"
      },
      "outputs": [
        {
          "name": "stdout",
          "output_type": "stream",
          "text": [
            "Epoch 1/10\n",
            "154/154 [==============================] - 272s 2s/step - loss: 226.1967 - accuracy: 0.4618\n",
            "Epoch 2/10\n",
            "154/154 [==============================] - 273s 2s/step - loss: 0.6772 - accuracy: 0.7212\n",
            "Epoch 3/10\n",
            "154/154 [==============================] - 273s 2s/step - loss: 0.3678 - accuracy: 0.8522\n",
            "Epoch 4/10\n",
            "154/154 [==============================] - 272s 2s/step - loss: 0.2209 - accuracy: 0.9136\n",
            "Epoch 5/10\n",
            "154/154 [==============================] - 271s 2s/step - loss: 0.1924 - accuracy: 0.9229\n",
            "Epoch 6/10\n",
            "154/154 [==============================] - 272s 2s/step - loss: 0.1499 - accuracy: 0.9359\n",
            "Epoch 7/10\n",
            " 70/154 [============>.................] - ETA: 2:28 - loss: 0.1511 - accuracy: 0.9326"
          ]
        }
      ],
      "source": [
        "#defining model\n",
        "model=Sequential()\n",
        "#adding convolution layer\n",
        "model.add(Conv2D(32,(3,3),activation='relu',input_shape=(512,512,1)))\n",
        "#adding pooling layer\n",
        "model.add(MaxPool2D(2,2))\n",
        "model.add(Conv2D(64,(3,3),activation='relu',input_shape=(512,512,1)))\n",
        "#adding pooling layer\n",
        "model.add(MaxPool2D(2,2))\n",
        "#adding fully connected layer\n",
        "model.add(Flatten())\n",
        "model.add(Dense(100,activation='relu'))\n",
        "model.add(Dropout(0.2))\n",
        "#adding output layer\n",
        "model.add(Dense(4,activation='softmax'))\n",
        "#compiling the model\n",
        "model.compile(loss='sparse_categorical_crossentropy',optimizer='adam',metrics=['accuracy'])\n",
        "#fitting the model\n",
        "histroy = model.fit(patient_train,label_train,epochs=10)"
      ]
    },
    {
      "cell_type": "markdown",
      "metadata": {
        "id": "oIdX63vGhoxS"
      },
      "source": [
        "Model evaluation\n"
      ]
    },
    {
      "cell_type": "code",
      "execution_count": null,
      "metadata": {
        "colab": {
          "base_uri": "https://localhost:8080/",
          "height": 608
        },
        "id": "hqXE88o3uPL0",
        "outputId": "5471cd1d-d7c9-417a-9d97-d1804e16605a"
      },
      "outputs": [
        {
          "name": "stdout",
          "output_type": "stream",
          "text": [
            "76/76 [==============================] - 85s 1s/step - loss: 0.0758 - accuracy: 0.9757\n",
            "dict_keys(['loss', 'accuracy'])\n"
          ]
        },
        {
          "data": {
            "image/png": "[encoded data removed]",
            "text/plain": [
              "<Figure size 432x288 with 1 Axes>"
            ]
          },
          "metadata": {},
          "output_type": "display_data"
        },
        {
          "data": {
            "image/png": "[encoded data removed]",
            "text/plain": [
              "<Figure size 432x288 with 1 Axes>"
            ]
          },
          "metadata": {},
          "output_type": "display_data"
        }
      ],
      "source": [
        "#evaluting the model\n",
        "model.evaluate(patient_test,label_test)\n",
        "print(histroy.history.keys())\n",
        "# summarize history for accuracy\n",
        "plt.plot(histroy.history['accuracy'])\n",
        "plt.title('model accuracy')\n",
        "plt.ylabel('accuracy')\n",
        "plt.xlabel('epoch')\n",
        "plt.legend(['train', 'test'], loc='upper left')\n",
        "plt.show()\n",
        "# summarize history for loss\n",
        "plt.plot(histroy.history['loss'])\n",
        "plt.title('model loss')\n",
        "plt.ylabel('loss')\n",
        "plt.xlabel('epoch')\n",
        "plt.legend(['train', 'test'], loc='upper left')\n",
        "plt.show()"
      ]
    },
    {
      "cell_type": "markdown",
      "metadata": {
        "id": "Iu04ShSyW1rb"
      },
      "source": [
        "Alexnet"
      ]
    },
    {
      "cell_type": "code",
      "execution_count": null,
      "metadata": {
        "colab": {
          "base_uri": "https://localhost:8080/"
        },
        "id": "DWuyzrpMW1DT",
        "outputId": "63a6a563-83ef-41a3-c821-d73aafd3273e"
      },
      "outputs": [
        {
          "name": "stdout",
          "output_type": "stream",
          "text": [
            "Epoch 1/10\n",
            "154/154 [==============================] - 26s 165ms/step - loss: 1.7045 - accuracy: 0.4640\n",
            "Epoch 2/10\n",
            "154/154 [==============================] - 25s 163ms/step - loss: 0.8364 - accuracy: 0.6639\n",
            "Epoch 3/10\n",
            "154/154 [==============================] - 25s 160ms/step - loss: 0.5367 - accuracy: 0.8022\n",
            "Epoch 4/10\n",
            "154/154 [==============================] - 25s 161ms/step - loss: 0.3500 - accuracy: 0.8843\n",
            "Epoch 5/10\n",
            "154/154 [==============================] - 25s 162ms/step - loss: 0.2434 - accuracy: 0.9307\n",
            "Epoch 6/10\n",
            "154/154 [==============================] - 25s 162ms/step - loss: 0.1538 - accuracy: 0.9642\n",
            "Epoch 7/10\n",
            "154/154 [==============================] - 25s 161ms/step - loss: 0.1100 - accuracy: 0.9780\n",
            "Epoch 8/10\n",
            "154/154 [==============================] - 25s 162ms/step - loss: 0.0790 - accuracy: 0.9852\n",
            "Epoch 9/10\n",
            "154/154 [==============================] - 25s 162ms/step - loss: 0.0628 - accuracy: 0.9876\n",
            "Epoch 10/10\n",
            "154/154 [==============================] - 25s 162ms/step - loss: 0.0567 - accuracy: 0.9884\n"
          ]
        }
      ],
      "source": [
        "patient_train = patient_train.reshape(4918,512,512,1)\n",
        "model = keras.models.Sequential([\n",
        "    keras.layers.Conv2D(filters=96, kernel_size=(11,11), strides=(4,4), activation='relu', input_shape=(512,512,1)),\n",
        "    keras.layers.BatchNormalization(),\n",
        "    keras.layers.MaxPool2D(pool_size=(3,3), strides=(2,2)),\n",
        "    keras.layers.Conv2D(filters=256, kernel_size=(5,5), strides=(1,1), activation='relu', padding=\"same\"),\n",
        "    keras.layers.BatchNormalization(),\n",
        "    keras.layers.MaxPool2D(pool_size=(3,3), strides=(2,2)),\n",
        "    keras.layers.Conv2D(filters=384, kernel_size=(3,3), strides=(1,1), activation='relu', padding=\"same\"),\n",
        "    keras.layers.BatchNormalization(),\n",
        "    keras.layers.Conv2D(filters=384, kernel_size=(3,3), strides=(1,1), activation='relu', padding=\"same\"),\n",
        "    keras.layers.BatchNormalization(),\n",
        "    keras.layers.Conv2D(filters=256, kernel_size=(3,3), strides=(1,1), activation='relu', padding=\"same\"),\n",
        "    keras.layers.BatchNormalization(),\n",
        "    keras.layers.MaxPool2D(pool_size=(3,3), strides=(2,2)),\n",
        "    keras.layers.Flatten(),\n",
        "    keras.layers.Dense(4096, activation='relu'),\n",
        "    keras.layers.Dropout(0.2),\n",
        "    keras.layers.Dense(4096, activation='relu'),\n",
        "    keras.layers.Dropout(0.2),\n",
        "    keras.layers.Dense(4, activation='softmax')\n",
        "])\n",
        "\n",
        "model.compile(loss='sparse_categorical_crossentropy',optimizer=tf.optimizers.SGD(lr=0.001),metrics=['accuracy'])\n",
        "#fitting the model\n",
        "history = model.fit(patient_train,label_train,epochs=10)"
      ]
    },
    {
      "cell_type": "code",
      "execution_count": null,
      "metadata": {
        "colab": {
          "base_uri": "https://localhost:8080/",
          "height": 608
        },
        "id": "5ywIxsreXWt4",
        "outputId": "c48d3f17-9b6d-40e4-8b6c-a13141dbf931"
      },
      "outputs": [
        {
          "name": "stdout",
          "output_type": "stream",
          "text": [
            "76/76 [==============================] - 4s 48ms/step - loss: 0.0684 - accuracy: 0.9806\n",
            "dict_keys(['loss', 'accuracy'])\n"
          ]
        },
        {
          "data": {
            "image/png": "[encoded data removed]",
            "text/plain": [
              "<Figure size 432x288 with 1 Axes>"
            ]
          },
          "metadata": {},
          "output_type": "display_data"
        },
        {
          "data": {
            "image/png": "[encoded data removed]",
            "text/plain": [
              "<Figure size 432x288 with 1 Axes>"
            ]
          },
          "metadata": {},
          "output_type": "display_data"
        }
      ],
      "source": [
        "model.evaluate(patient_test,label_test)\n",
        "print(history.history.keys())\n",
        "# summarize history for accuracy\n",
        "plt.plot(history.history['accuracy'])\n",
        "plt.title('model accuracy')\n",
        "plt.ylabel('accuracy')\n",
        "plt.xlabel('epoch')\n",
        "plt.legend(['train', 'test'], loc='upper left')\n",
        "plt.show()\n",
        "# summarize history for loss\n",
        "plt.plot(history.history['loss'])\n",
        "plt.title('model loss')\n",
        "plt.ylabel('loss')\n",
        "plt.xlabel('epoch')\n",
        "plt.legend(['train', 'test'], loc='upper left')\n",
        "plt.show()"
      ]
    },
    {
      "cell_type": "markdown",
      "metadata": {
        "id": "y8FuQr6OAouu"
      },
      "source": [
        "VGG 19"
      ]
    },
    {
      "cell_type": "code",
      "execution_count": null,
      "metadata": {
        "colab": {
          "background_save": true
        },
        "id": "8SG9GrZFMEKT",
        "outputId": "1846f380-59d9-485a-d3cd-0f3a2bc8021a"
      },
      "outputs": [
        {
          "ename": "NameError",
          "evalue": "ignored",
          "output_type": "error",
          "traceback": [
            "\u001b[0;31m---------------------------------------------------------------------------\u001b[0m",
            "\u001b[0;31mNameError\u001b[0m                                 Traceback (most recent call last)",
            "\u001b[0;32m<ipython-input-1-25f82c6e7891>\u001b[0m in \u001b[0;36m<module>\u001b[0;34m\u001b[0m\n\u001b[0;32m----> 1\u001b[0;31m \u001b[0mpatient_train\u001b[0m \u001b[0;34m=\u001b[0m \u001b[0mpatient_train\u001b[0m\u001b[0;34m.\u001b[0m\u001b[0mreshape\u001b[0m\u001b[0;34m(\u001b[0m\u001b[0;34m(\u001b[0m\u001b[0;36m3578\u001b[0m\u001b[0;34m,\u001b[0m \u001b[0;36m512\u001b[0m\u001b[0;34m,\u001b[0m \u001b[0;36m512\u001b[0m\u001b[0;34m,\u001b[0m\u001b[0;36m1\u001b[0m\u001b[0;34m)\u001b[0m\u001b[0;34m)\u001b[0m\u001b[0;34m\u001b[0m\u001b[0;34m\u001b[0m\u001b[0m\n\u001b[0m\u001b[1;32m      2\u001b[0m \u001b[0mmodel\u001b[0m\u001b[0;34m=\u001b[0m\u001b[0mSequential\u001b[0m\u001b[0;34m(\u001b[0m\u001b[0;34m)\u001b[0m\u001b[0;34m\u001b[0m\u001b[0;34m\u001b[0m\u001b[0m\n\u001b[1;32m      3\u001b[0m \u001b[0;31m#adding convolution layer 1\u001b[0m\u001b[0;34m\u001b[0m\u001b[0;34m\u001b[0m\u001b[0;34m\u001b[0m\u001b[0m\n\u001b[1;32m      4\u001b[0m \u001b[0mmodel\u001b[0m\u001b[0;34m.\u001b[0m\u001b[0madd\u001b[0m\u001b[0;34m(\u001b[0m\u001b[0mConv2D\u001b[0m\u001b[0;34m(\u001b[0m\u001b[0;36m64\u001b[0m\u001b[0;34m,\u001b[0m\u001b[0;34m(\u001b[0m\u001b[0;36m3\u001b[0m\u001b[0;34m,\u001b[0m\u001b[0;36m3\u001b[0m\u001b[0;34m)\u001b[0m\u001b[0;34m,\u001b[0m\u001b[0mactivation\u001b[0m\u001b[0;34m=\u001b[0m\u001b[0;34m'relu'\u001b[0m\u001b[0;34m,\u001b[0m\u001b[0minput_shape\u001b[0m\u001b[0;34m=\u001b[0m\u001b[0;34m(\u001b[0m\u001b[0;36m512\u001b[0m\u001b[0;34m,\u001b[0m\u001b[0;36m512\u001b[0m\u001b[0;34m,\u001b[0m\u001b[0;36m1\u001b[0m\u001b[0;34m)\u001b[0m\u001b[0;34m)\u001b[0m\u001b[0;34m)\u001b[0m\u001b[0;34m\u001b[0m\u001b[0;34m\u001b[0m\u001b[0m\n\u001b[1;32m      5\u001b[0m \u001b[0mmodel\u001b[0m\u001b[0;34m.\u001b[0m\u001b[0madd\u001b[0m\u001b[0;34m(\u001b[0m\u001b[0mConv2D\u001b[0m\u001b[0;34m(\u001b[0m\u001b[0;36m64\u001b[0m\u001b[0;34m,\u001b[0m\u001b[0;34m(\u001b[0m\u001b[0;36m3\u001b[0m\u001b[0;34m,\u001b[0m\u001b[0;36m3\u001b[0m\u001b[0;34m)\u001b[0m\u001b[0;34m,\u001b[0m\u001b[0mactivation\u001b[0m\u001b[0;34m=\u001b[0m\u001b[0;34m'relu'\u001b[0m\u001b[0;34m,\u001b[0m\u001b[0minput_shape\u001b[0m\u001b[0;34m=\u001b[0m\u001b[0;34m(\u001b[0m\u001b[0;36m512\u001b[0m\u001b[0;34m,\u001b[0m\u001b[0;36m512\u001b[0m\u001b[0;34m,\u001b[0m\u001b[0;36m1\u001b[0m\u001b[0;34m)\u001b[0m\u001b[0;34m)\u001b[0m\u001b[0;34m)\u001b[0m\u001b[0;34m\u001b[0m\u001b[0;34m\u001b[0m\u001b[0m\n",
            "\u001b[0;31mNameError\u001b[0m: name 'patient_train' is not defined"
          ]
        }
      ],
      "source": [
        "patient_train = patient_train.reshape((3578, 512, 512,1))\n",
        "model=Sequential()\n",
        "#adding convolution layer 1\n",
        "model.add(Conv2D(64,(3,3),activation='relu',input_shape=(512,512,1)))\n",
        "model.add(Conv2D(64,(3,3),activation='relu',input_shape=(512,512,1)))\n",
        "model.add(MaxPool2D(2,2))\n",
        "#adding layer 2\n",
        "model.add(Conv2D(128,(3,3),activation='relu'))\n",
        "model.add(Conv2D(128,(3,3),activation='relu'))\n",
        "model.add(MaxPool2D(2,2))\n",
        "#adding layer 3\n",
        "model.add(Conv2D(256,(3,3),activation='relu'))\n",
        "model.add(Conv2D(256,(3,3),activation='relu'))\n",
        "model.add(Conv2D(256,(3,3),activation='relu'))\n",
        "model.add(MaxPool2D(2,2))\n",
        "#adding layer 4\n",
        "model.add(Conv2D(512,(3,3),activation='relu'))\n",
        "model.add(Conv2D(512,(3,3),activation='relu'))\n",
        "model.add(Conv2D(512,(3,3),activation='relu'))\n",
        "model.add(MaxPool2D(2,2))\n",
        "#adding layer 5\n",
        "model.add(Conv2D(512,(3,3),activation='relu'))\n",
        "model.add(Conv2D(512,(3,3),activation='relu'))\n",
        "model.add(Conv2D(512,(3,3),activation='relu'))\n",
        "model.add(MaxPool2D(2,2))\n",
        "model.add(Dense(2048,activation='relu'))\n",
        "model.add(Dense(2048,activation='relu'))\n",
        "model.add(Dense(1000,activation='relu'))\n",
        "model.add(Flatten())\n",
        "model.add(Dense(4,activation='softmax'))\n",
        "#compiling the model\n",
        "model.compile(loss='sparse_categorical_crossentropy',optimizer=tf.optimizers.SGD(lr=0.001),metrics=['accuracy'])\n",
        "#fitting the model\n",
        "history1 = model.fit(patient_train,label_train,epochs=10)"
      ]
    },
    {
      "cell_type": "code",
      "execution_count": null,
      "metadata": {
        "id": "5T3vGjarBLQu"
      },
      "outputs": [],
      "source": [
        "model.evaluate(patient_test,label_test)\n",
        "print(history1.history.keys())\n",
        "# summarize history for accuracy\n",
        "plt.plot(history1.history['accuracy'])\n",
        "plt.title('model accuracy')\n",
        "plt.ylabel('accuracy')\n",
        "plt.xlabel('epoch')\n",
        "plt.legend(['train', 'test'], loc='upper left')\n",
        "plt.show()\n",
        "# summarize history for loss\n",
        "plt.plot(history1.history['loss'])\n",
        "plt.title('model loss')\n",
        "plt.ylabel('loss')\n",
        "plt.xlabel('epoch')\n",
        "plt.legend(['train', 'test'], loc='upper left')\n",
        "plt.show()"
      ]
    },
    {
      "cell_type": "markdown",
      "metadata": {
        "id": "zaT_5wMgAssL"
      },
      "source": [
        "Inception V3"
      ]
    },
    {
      "cell_type": "code",
      "execution_count": null,
      "metadata": {
        "colab": {
          "base_uri": "https://localhost:8080/"
        },
        "id": "NDcKAFhEAsXY",
        "outputId": "f760906c-99c4-46a9-c3d8-dc9595a525a2"
      },
      "outputs": [
        {
          "name": "stdout",
          "output_type": "stream",
          "text": [
            "(3578, 512, 512, 3)\n",
            "Model: \"sequential_2\"\n",
            "_________________________________________________________________\n",
            " Layer (type)                Output Shape              Param #   \n",
            "=================================================================\n",
            " inception_v3 (Functional)   (None, 14, 14, 2048)      21802784  \n",
            "                                                                 \n",
            " max_pooling2d_18 (MaxPoolin  (None, 7, 7, 2048)       0         \n",
            " g2D)                                                            \n",
            "                                                                 \n",
            " flatten_1 (Flatten)         (None, 100352)            0         \n",
            "                                                                 \n",
            " dropout_2 (Dropout)         (None, 100352)            0         \n",
            "                                                                 \n",
            " dense_2 (Dense)             (None, 4)                 401412    \n",
            "                                                                 \n",
            "=================================================================\n",
            "Total params: 22,204,196\n",
            "Trainable params: 22,169,764\n",
            "Non-trainable params: 34,432\n",
            "_________________________________________________________________\n",
            "Epoch 1/10\n",
            "112/112 [==============================] - 1369s 12s/step - loss: 6.1374 - accuracy: 0.2996\n",
            "Epoch 2/10\n",
            "112/112 [==============================] - 1369s 12s/step - loss: 4.5537 - accuracy: 0.3167\n",
            "Epoch 3/10\n",
            "112/112 [==============================] - 1365s 12s/step - loss: 4.6520 - accuracy: 0.2837\n",
            "Epoch 4/10\n",
            "112/112 [==============================] - 1367s 12s/step - loss: 2.7117 - accuracy: 0.3239\n",
            "Epoch 5/10\n",
            "112/112 [==============================] - 1361s 12s/step - loss: 2.5743 - accuracy: 0.3228\n",
            "Epoch 6/10\n",
            "112/112 [==============================] - 1371s 12s/step - loss: 2.5265 - accuracy: 0.3334\n",
            "Epoch 7/10\n",
            "112/112 [==============================] - 1375s 12s/step - loss: 2.2318 - accuracy: 0.3480\n",
            "Epoch 8/10\n",
            "112/112 [==============================] - 1399s 12s/step - loss: 2.9013 - accuracy: 0.3480\n",
            "Epoch 9/10\n",
            "112/112 [==============================] - 1372s 12s/step - loss: 3.7808 - accuracy: 0.3208\n",
            "Epoch 10/10\n",
            "112/112 [==============================] - 1357s 12s/step - loss: 2.4403 - accuracy: 0.3474\n"
          ]
        },
        {
          "data": {
            "text/plain": [
              "<keras.callbacks.History at 0x7fea0ec673d0>"
            ]
          },
          "execution_count": 9,
          "metadata": {},
          "output_type": "execute_result"
        }
      ],
      "source": [
        "base_model = keras.applications.InceptionV3(include_top=False, weights = None, input_shape=(512,512,3))\n",
        "patient_train = patient_train.reshape(3578,512,512,1)\n",
        "rgb= np.concatenate((patient_train,)*3, axis=-1)\n",
        "print(np.shape(rgb))\n",
        "add_model = Sequential()\n",
        "add_model.add(base_model)\n",
        "add_model.add(MaxPool2D(2,2))\n",
        "add_model.add(Flatten())\n",
        "add_model.add(Dropout(0.))\n",
        "add_model.add(Dense(4, activation='softmax'))\n",
        "\n",
        "model = add_model\n",
        "model.compile(loss='sparse_categorical_crossentropy', optimizer=tf.optimizers.SGD(lr=0.001), metrics=['accuracy'])\n",
        "model.summary()\n",
        "model.fit(rgb, label_train, epochs = 10)"
      ]
    },
    {
      "cell_type": "code",
      "execution_count": null,
      "metadata": {
        "colab": {
          "base_uri": "https://localhost:8080/",
          "height": 252
        },
        "id": "nIFCQYlq9y-k",
        "outputId": "2fc7ddb2-0666-43d6-fa91-a789eba8b061"
      },
      "outputs": [
        {
          "name": "stdout",
          "output_type": "stream",
          "text": [
            "56/56 [==============================] - 88s 2s/step - loss: 4.3127 - accuracy: 0.3080\n"
          ]
        },
        {
          "ename": "NameError",
          "evalue": "ignored",
          "output_type": "error",
          "traceback": [
            "\u001b[0;31m---------------------------------------------------------------------------\u001b[0m",
            "\u001b[0;31mNameError\u001b[0m                                 Traceback (most recent call last)",
            "\u001b[0;32m<ipython-input-14-bb97bdc82f09>\u001b[0m in \u001b[0;36m<module>\u001b[0;34m\u001b[0m\n\u001b[1;32m      2\u001b[0m \u001b[0mrgb1\u001b[0m\u001b[0;34m=\u001b[0m \u001b[0mnp\u001b[0m\u001b[0;34m.\u001b[0m\u001b[0mconcatenate\u001b[0m\u001b[0;34m(\u001b[0m\u001b[0;34m(\u001b[0m\u001b[0mpatient_test\u001b[0m\u001b[0;34m,\u001b[0m\u001b[0;34m)\u001b[0m\u001b[0;34m*\u001b[0m\u001b[0;36m3\u001b[0m\u001b[0;34m,\u001b[0m \u001b[0maxis\u001b[0m\u001b[0;34m=\u001b[0m\u001b[0;34m-\u001b[0m\u001b[0;36m1\u001b[0m\u001b[0;34m)\u001b[0m\u001b[0;34m\u001b[0m\u001b[0;34m\u001b[0m\u001b[0m\n\u001b[1;32m      3\u001b[0m \u001b[0mmodel\u001b[0m\u001b[0;34m.\u001b[0m\u001b[0mevaluate\u001b[0m\u001b[0;34m(\u001b[0m\u001b[0mrgb1\u001b[0m\u001b[0;34m,\u001b[0m\u001b[0mlabel_test\u001b[0m\u001b[0;34m)\u001b[0m\u001b[0;34m\u001b[0m\u001b[0;34m\u001b[0m\u001b[0m\n\u001b[0;32m----> 4\u001b[0;31m \u001b[0mprint\u001b[0m\u001b[0;34m(\u001b[0m\u001b[0mhistory1\u001b[0m\u001b[0;34m.\u001b[0m\u001b[0mhistory\u001b[0m\u001b[0;34m.\u001b[0m\u001b[0mkeys\u001b[0m\u001b[0;34m(\u001b[0m\u001b[0;34m)\u001b[0m\u001b[0;34m)\u001b[0m\u001b[0;34m\u001b[0m\u001b[0;34m\u001b[0m\u001b[0m\n\u001b[0m\u001b[1;32m      5\u001b[0m \u001b[0;31m# summarize history for accuracy\u001b[0m\u001b[0;34m\u001b[0m\u001b[0;34m\u001b[0m\u001b[0;34m\u001b[0m\u001b[0m\n\u001b[1;32m      6\u001b[0m \u001b[0mplt\u001b[0m\u001b[0;34m.\u001b[0m\u001b[0mplot\u001b[0m\u001b[0;34m(\u001b[0m\u001b[0mhistory1\u001b[0m\u001b[0;34m.\u001b[0m\u001b[0mhistory\u001b[0m\u001b[0;34m[\u001b[0m\u001b[0;34m'accuracy'\u001b[0m\u001b[0;34m]\u001b[0m\u001b[0;34m)\u001b[0m\u001b[0;34m\u001b[0m\u001b[0;34m\u001b[0m\u001b[0m\n",
            "\u001b[0;31mNameError\u001b[0m: name 'history1' is not defined"
          ]
        }
      ],
      "source": [
        "patient_test = patient_test.reshape(1763,512,512,1)\n",
        "rgb1= np.concatenate((patient_test,)*3, axis=-1)\n",
        "model.evaluate(rgb1,label_test)\n",
        "print(history1.history.keys())\n",
        "# summarize history for accuracy\n",
        "plt.plot(history1.history['accuracy'])\n",
        "plt.title('model accuracy')\n",
        "plt.ylabel('accuracy')\n",
        "plt.xlabel('epoch')\n",
        "plt.legend(['train', 'test'], loc='upper left')\n",
        "plt.show()\n",
        "# summarize history for loss\n",
        "plt.plot(history1.history['loss'])\n",
        "plt.title('model loss')\n",
        "plt.ylabel('loss')\n",
        "plt.xlabel('epoch')\n",
        "plt.legend(['train', 'test'], loc='upper left')\n",
        "plt.show()"
      ]
    },
    {
      "cell_type": "markdown",
      "metadata": {
        "id": "DItdFr9T3eEK"
      },
      "source": [
        "ResNet"
      ]
    },
    {
      "cell_type": "code",
      "execution_count": null,
      "metadata": {
        "colab": {
          "base_uri": "https://localhost:8080/"
        },
        "id": "HT9zviTw3fy0",
        "outputId": "b57f4722-c612-47a2-9ef4-80d5703f8deb"
      },
      "outputs": [
        {
          "name": "stdout",
          "output_type": "stream",
          "text": [
            "Epoch 1/10\n",
            "112/112 [==============================] - 1387s 12s/step - loss: 8.9686 - accuracy: 0.3018\n",
            "Epoch 2/10\n",
            "112/112 [==============================] - 1388s 12s/step - loss: 1.3348 - accuracy: 0.3773\n",
            "Epoch 3/10\n",
            "112/112 [==============================] - 1361s 12s/step - loss: 1.2670 - accuracy: 0.4106\n",
            "Epoch 4/10\n",
            "112/112 [==============================] - 1361s 12s/step - loss: 1.2056 - accuracy: 0.4366\n",
            "Epoch 5/10\n",
            "112/112 [==============================] - 1349s 12s/step - loss: 1.1238 - accuracy: 0.4894\n",
            "Epoch 6/10\n",
            "112/112 [==============================] - 1357s 12s/step - loss: 1.0086 - accuracy: 0.5643\n",
            "Epoch 7/10\n",
            "112/112 [==============================] - 1348s 12s/step - loss: 0.8511 - accuracy: 0.6470\n",
            "Epoch 8/10\n",
            "112/112 [==============================] - 1348s 12s/step - loss: 0.6688 - accuracy: 0.7283\n",
            "Epoch 9/10\n",
            "112/112 [==============================] - 1336s 12s/step - loss: 0.4709 - accuracy: 0.8144\n",
            "Epoch 10/10\n",
            "112/112 [==============================] - 1346s 12s/step - loss: 0.4239 - accuracy: 0.8401\n"
          ]
        }
      ],
      "source": [
        "import keras\n",
        "from keras.models import Sequential, Model,load_model\n",
        "from keras.callbacks import EarlyStopping,ModelCheckpoint\n",
        "from google.colab.patches import cv2_imshow\n",
        "from keras.layers import Input, Add, Dense, Activation, ZeroPadding2D, BatchNormalization, Flatten, Conv2D, AveragePooling2D, MaxPooling2D, GlobalMaxPooling2D,MaxPool2D\n",
        "from keras.preprocessing import image\n",
        "from keras.initializers import glorot_uniform\n",
        "def identity_block(X, f, filters, stage, block):\n",
        "\n",
        "    conv_name_base = 'res' + str(stage) + block + '_branch'\n",
        "    bn_name_base = 'bn' + str(stage) + block + '_branch'\n",
        "    F1, F2, F3 = filters\n",
        "\n",
        "    X_shortcut = X\n",
        "\n",
        "    X = Conv2D(filters=F1, kernel_size=(1, 1), strides=(1, 1), padding='valid', name=conv_name_base + '2a', kernel_initializer=glorot_uniform(seed=0))(X)\n",
        "    X = BatchNormalization(axis=3, name=bn_name_base + '2a')(X)\n",
        "    X = Activation('relu')(X)\n",
        "\n",
        "    X = Conv2D(filters=F2, kernel_size=(f, f), strides=(1, 1), padding='same', name=conv_name_base + '2b', kernel_initializer=glorot_uniform(seed=0))(X)\n",
        "    X = BatchNormalization(axis=3, name=bn_name_base + '2b')(X)\n",
        "    X = Activation('relu')(X)\n",
        "\n",
        "    X = Conv2D(filters=F3, kernel_size=(1, 1), strides=(1, 1), padding='valid', name=conv_name_base + '2c', kernel_initializer=glorot_uniform(seed=0))(X)\n",
        "    X = BatchNormalization(axis=3, name=bn_name_base + '2c')(X)\n",
        "\n",
        "    X = Add()([X, X_shortcut])# SKIP Connection\n",
        "    X = Activation('relu')(X)\n",
        "\n",
        "    return X\n",
        "\n",
        "def convolutional_block(X, f, filters, stage, block, s=2):\n",
        "\n",
        "    conv_name_base = 'res' + str(stage) + block + '_branch'\n",
        "    bn_name_base = 'bn' + str(stage) + block + '_branch'\n",
        "\n",
        "    F1, F2, F3 = filters\n",
        "\n",
        "    X_shortcut = X\n",
        "\n",
        "    X = Conv2D(filters=F1, kernel_size=(1, 1), strides=(s, s), padding='valid', name=conv_name_base + '2a', kernel_initializer=glorot_uniform(seed=0))(X)\n",
        "    X = BatchNormalization(axis=3, name=bn_name_base + '2a')(X)\n",
        "    X = Activation('relu')(X)\n",
        "\n",
        "    X = Conv2D(filters=F2, kernel_size=(f, f), strides=(1, 1), padding='same', name=conv_name_base + '2b', kernel_initializer=glorot_uniform(seed=0))(X)\n",
        "    X = BatchNormalization(axis=3, name=bn_name_base + '2b')(X)\n",
        "    X = Activation('relu')(X)\n",
        "\n",
        "    X = Conv2D(filters=F3, kernel_size=(1, 1), strides=(1, 1), padding='valid', name=conv_name_base + '2c', kernel_initializer=glorot_uniform(seed=0))(X)\n",
        "    X = BatchNormalization(axis=3, name=bn_name_base + '2c')(X)\n",
        "\n",
        "    X_shortcut = Conv2D(filters=F3, kernel_size=(1, 1), strides=(s, s), padding='valid', name=conv_name_base + '1', kernel_initializer=glorot_uniform(seed=0))(X_shortcut)\n",
        "    X_shortcut = BatchNormalization(axis=3, name=bn_name_base + '1')(X_shortcut)\n",
        "\n",
        "    X = Add()([X, X_shortcut])\n",
        "    X = Activation('relu')(X)\n",
        "\n",
        "    return X\n",
        "\n",
        "def ResNet50(input_shape):\n",
        "\n",
        "    X_input = Input(input_shape)\n",
        "\n",
        "    X = ZeroPadding2D((3, 3))(X_input)\n",
        "\n",
        "    X = Conv2D(64, (7, 7), strides=(2, 2), name='conv1', kernel_initializer=glorot_uniform(seed=0))(X)\n",
        "    X = BatchNormalization(axis=3, name='bn_conv1')(X)\n",
        "    X = Activation('relu')(X)\n",
        "    X = MaxPooling2D((3, 3), strides=(2, 2))(X)\n",
        "\n",
        "    X = convolutional_block(X, f=3, filters=[64, 64, 256], stage=2, block='a', s=1)\n",
        "    X = identity_block(X, 3, [64, 64, 256], stage=2, block='b')\n",
        "    X = identity_block(X, 3, [64, 64, 256], stage=2, block='c')\n",
        "\n",
        "\n",
        "    X = convolutional_block(X, f=3, filters=[128, 128, 512], stage=3, block='a', s=2)\n",
        "    X = identity_block(X, 3, [128, 128, 512], stage=3, block='b')\n",
        "    X = identity_block(X, 3, [128, 128, 512], stage=3, block='c')\n",
        "    X = identity_block(X, 3, [128, 128, 512], stage=3, block='d')\n",
        "\n",
        "    X = convolutional_block(X, f=3, filters=[256, 256, 1024], stage=4, block='a', s=2)\n",
        "    X = identity_block(X, 3, [256, 256, 1024], stage=4, block='b')\n",
        "    X = identity_block(X, 3, [256, 256, 1024], stage=4, block='c')\n",
        "    X = identity_block(X, 3, [256, 256, 1024], stage=4, block='d')\n",
        "    X = identity_block(X, 3, [256, 256, 1024], stage=4, block='e')\n",
        "    X = identity_block(X, 3, [256, 256, 1024], stage=4, block='f')\n",
        "\n",
        "    X = X = convolutional_block(X, f=3, filters=[512, 512, 2048], stage=5, block='a', s=2)\n",
        "    X = identity_block(X, 3, [512, 512, 2048], stage=5, block='b')\n",
        "    X = identity_block(X, 3, [512, 512, 2048], stage=5, block='c')\n",
        "\n",
        "    X = AveragePooling2D(pool_size=(2, 2), padding='same')(X)\n",
        "\n",
        "    model = Model(inputs=X_input, outputs=X, name='ResNet50')\n",
        "\n",
        "    return model\n",
        "patient_train = patient_train.reshape(3578,512,512,1)\n",
        "base_model =  ResNet50(input_shape=(512,512,1))\n",
        "headModel = Sequential()\n",
        "headModel.add(base_model)\n",
        "headModel.add(Flatten())\n",
        "headModel.add(Dense(256, activation='relu', name='fc1',kernel_initializer=glorot_uniform(seed=0)))\n",
        "headModel.add(Dense(128, activation='relu', name='fc2',kernel_initializer=glorot_uniform(seed=0)))\n",
        "headModel.add(Dense( 4,activation='softmax', name='fc3',kernel_initializer=glorot_uniform(seed=0)))\n",
        "headModel.compile(loss='sparse_categorical_crossentropy',optimizer='adam',metrics=['accuracy'])\n",
        "#fitting the model\n",
        "history2 = headModel.fit(patient_train,label_train,epochs=10)"
      ]
    },
    {
      "cell_type": "code",
      "execution_count": null,
      "metadata": {
        "colab": {
          "base_uri": "https://localhost:8080/",
          "height": 608
        },
        "id": "t3CiHdcOXWgf",
        "outputId": "ce766e18-30b4-4ae1-8ec1-90abfb6036ae"
      },
      "outputs": [
        {
          "name": "stdout",
          "output_type": "stream",
          "text": [
            "56/56 [==============================] - 108s 2s/step - loss: 0.5769 - accuracy: 0.7998\n",
            "dict_keys(['loss', 'accuracy'])\n"
          ]
        },
        {
          "data": {
            "image/png": "[encoded data removed]",
            "text/plain": [
              "<Figure size 432x288 with 1 Axes>"
            ]
          },
          "metadata": {},
          "output_type": "display_data"
        },
        {
          "data": {
            "image/png": "[encoded data removed]",
            "text/plain": [
              "<Figure size 432x288 with 1 Axes>"
            ]
          },
          "metadata": {},
          "output_type": "display_data"
        }
      ],
      "source": [
        "headModel.evaluate(patient_test,label_test)\n",
        "print(history2.history.keys())\n",
        "# summarize history for accuracy\n",
        "plt.plot(history2.history['accuracy'])\n",
        "plt.title('model accuracy')\n",
        "plt.ylabel('accuracy')\n",
        "plt.xlabel('epoch')\n",
        "plt.legend(['train', 'test'], loc='upper left')\n",
        "plt.show()\n",
        "# summarize history for loss\n",
        "plt.plot(history2.history['loss'])\n",
        "plt.title('model loss')\n",
        "plt.ylabel('loss')\n",
        "plt.xlabel('epoch')\n",
        "plt.legend(['train', 'test'], loc='upper left')\n",
        "plt.show()"
      ]
    },
    {
      "cell_type": "markdown",
      "metadata": {
        "id": "VPyGe9dc3JkF"
      },
      "source": [
        "Le net v5"
      ]
    },
    {
      "cell_type": "code",
      "execution_count": null,
      "metadata": {
        "colab": {
          "base_uri": "https://localhost:8080/"
        },
        "id": "HFgsaa-k3JJk",
        "outputId": "8fcb4854-5cfa-4af2-c57a-a64ec79357da"
      },
      "outputs": [
        {
          "name": "stdout",
          "output_type": "stream",
          "text": [
            "Epoch 1/10\n",
            "154/154 [==============================] - 9s 51ms/step - loss: 60.7584 - accuracy: 0.6214\n",
            "Epoch 2/10\n",
            "154/154 [==============================] - 8s 50ms/step - loss: 0.1285 - accuracy: 0.9561\n",
            "Epoch 3/10\n",
            "154/154 [==============================] - 8s 50ms/step - loss: 0.0497 - accuracy: 0.9839\n",
            "Epoch 4/10\n",
            "154/154 [==============================] - 8s 50ms/step - loss: 0.0315 - accuracy: 0.9890\n",
            "Epoch 5/10\n",
            "154/154 [==============================] - 8s 50ms/step - loss: 0.0252 - accuracy: 0.9906\n",
            "Epoch 6/10\n",
            "154/154 [==============================] - 8s 50ms/step - loss: 0.0350 - accuracy: 0.9874\n",
            "Epoch 7/10\n",
            "154/154 [==============================] - 8s 51ms/step - loss: 0.0554 - accuracy: 0.9827\n",
            "Epoch 8/10\n",
            "154/154 [==============================] - 8s 51ms/step - loss: 0.0606 - accuracy: 0.9823\n",
            "Epoch 9/10\n",
            "154/154 [==============================] - 8s 51ms/step - loss: 0.0570 - accuracy: 0.9833\n",
            "Epoch 10/10\n",
            "154/154 [==============================] - 8s 51ms/step - loss: 0.0228 - accuracy: 0.9906\n"
          ]
        }
      ],
      "source": [
        "model = keras.Sequential()\n",
        "\n",
        "model.add(layers.Conv2D(filters=6, kernel_size=(3, 3), activation='relu', input_shape=(512,512,1)))\n",
        "model.add(layers.AveragePooling2D())\n",
        "\n",
        "model.add(layers.Conv2D(filters=16, kernel_size=(3, 3), activation='relu'))\n",
        "model.add(layers.AveragePooling2D())\n",
        "\n",
        "model.add(layers.Flatten())\n",
        "\n",
        "model.add(layers.Dense(units=120, activation='relu'))\n",
        "\n",
        "model.add(layers.Dense(units=84, activation='relu'))\n",
        "model.add(Dropout(0.1))\n",
        "model.add(layers.Dense(units=4, activation = 'softmax'))\n",
        "model.compile(loss='sparse_categorical_crossentropy',optimizer='adam',metrics=['accuracy'])\n",
        "#fitting the model\n",
        "history3 = model.fit(patient_train,label_train,epochs=10)"
      ]
    },
    {
      "cell_type": "code",
      "execution_count": null,
      "metadata": {
        "colab": {
          "base_uri": "https://localhost:8080/",
          "height": 608
        },
        "id": "icaJZDl8JMdJ",
        "outputId": "e4531a5c-ae6f-408c-e0b7-a0efd2450c98"
      },
      "outputs": [
        {
          "name": "stdout",
          "output_type": "stream",
          "text": [
            "76/76 [==============================] - 2s 19ms/step - loss: 0.0762 - accuracy: 0.9781\n",
            "dict_keys(['loss', 'accuracy'])\n"
          ]
        },
        {
          "data": {
            "image/png": "[encoded data removed]",
            "text/plain": [
              "<Figure size 432x288 with 1 Axes>"
            ]
          },
          "metadata": {},
          "output_type": "display_data"
        },
        {
          "data": {
            "image/png": "[encoded data removed]",
            "text/plain": [
              "<Figure size 432x288 with 1 Axes>"
            ]
          },
          "metadata": {},
          "output_type": "display_data"
        }
      ],
      "source": [
        "model.evaluate(patient_test,label_test)\n",
        "print(history3.history.keys())\n",
        "# summarize history for accuracy\n",
        "plt.plot(history3.history['accuracy'])\n",
        "plt.title('model accuracy')\n",
        "plt.ylabel('accuracy')\n",
        "plt.xlabel('epoch')\n",
        "plt.legend(['train', 'test'], loc='upper left')\n",
        "plt.show()\n",
        "# summarize history for loss\n",
        "plt.plot(history3.history['loss'])\n",
        "plt.title('model loss')\n",
        "plt.ylabel('loss')\n",
        "plt.xlabel('epoch')\n",
        "plt.legend(['train', 'test'], loc='upper left')\n",
        "plt.show()"
      ]
    },
    {
      "cell_type": "code",
      "execution_count": null,
      "metadata": {
        "id": "80it46UVBMIK"
      },
      "outputs": [],
      "source": [
        "model.evaluate(patient_test,label_test)\n",
        "print(history.history.keys())\n",
        "# summarize history for accuracy\n",
        "plt.plot(history.history['accuracy'])\n",
        "plt.title('model accuracy')\n",
        "plt.ylabel('accuracy')\n",
        "plt.xlabel('epoch')\n",
        "plt.legend(['train', 'test'], loc='upper left')\n",
        "plt.show()\n",
        "# summarize history for loss\n",
        "plt.plot(history.history['loss'])\n",
        "plt.title('model loss')\n",
        "plt.ylabel('loss')\n",
        "plt.xlabel('epoch')\n",
        "plt.legend(['train', 'test'], loc='upper left')\n",
        "plt.show()"
      ]
    },
    {
      "cell_type": "markdown",
      "metadata": {
        "id": "NShBhwQSmHWU"
      },
      "source": [
        "Data Flattening for compatability"
      ]
    },
    {
      "cell_type": "code",
      "execution_count": null,
      "metadata": {
        "colab": {
          "base_uri": "https://localhost:8080/"
        },
        "id": "RpEIxJuDmLtc",
        "outputId": "b466bf4a-d7f4-456e-deb8-de7fa790f763"
      },
      "outputs": [
        {
          "name": "stdout",
          "output_type": "stream",
          "text": [
            "(4918, 262144)\n"
          ]
        }
      ],
      "source": [
        "nsamples, nx, ny = patient_train.shape\n",
        "patient_train2= patient_train.reshape((nsamples,nx*ny))\n",
        "nsamples1, nx1, ny1 = patient_test.shape\n",
        "patient_test2= patient_test.reshape((nsamples1,nx1*ny1))\n",
        "print(np.shape(patient_train2))"
      ]
    },
    {
      "cell_type": "markdown",
      "metadata": {
        "id": "3worxsDXk1sn"
      },
      "source": [
        "# SVM Models"
      ]
    },
    {
      "cell_type": "markdown",
      "metadata": {
        "id": "XIrCUlzsOY0F"
      },
      "source": [
        "Different Kernels"
      ]
    },
    {
      "cell_type": "code",
      "execution_count": null,
      "metadata": {
        "colab": {
          "base_uri": "https://localhost:8080/"
        },
        "id": "4SiqbEFTlqwS",
        "outputId": "115683e5-04a9-48ec-fde2-89b87bfd6189"
      },
      "outputs": [
        {
          "name": "stdout",
          "output_type": "stream",
          "text": [
            "Accuracy: 0.3536937680561288\n"
          ]
        }
      ],
      "source": [
        "model = svm.SVC(kernel = 'sigmoid')\n",
        "model.fit(patient_train2, label_train)\n",
        "pred = model.predict(patient_test2)\n",
        "print(\"Accuracy:\",metrics.accuracy_score(label_test, pred))"
      ]
    },
    {
      "cell_type": "code",
      "execution_count": null,
      "metadata": {
        "colab": {
          "base_uri": "https://localhost:8080/"
        },
        "id": "OHxA5RNgOYS2",
        "outputId": "b02d5777-9043-488c-f49f-face8081796a"
      },
      "outputs": [
        {
          "name": "stdout",
          "output_type": "stream",
          "text": [
            "Accuracy: 0.8572018159306645\n"
          ]
        }
      ],
      "source": [
        "model = svm.SVC(kernel = 'rbf')\n",
        "model.fit(patient_train2, label_train)\n",
        "pred = model.predict(patient_test2)\n",
        "print(\"Accuracy:\",metrics.accuracy_score(label_test, pred))"
      ]
    },
    {
      "cell_type": "code",
      "execution_count": null,
      "metadata": {
        "id": "fuTAJngSX3-5"
      },
      "outputs": [],
      "source": [
        "model = svm.SVC(kernel = 'gaussian')\n",
        "model.fit(patient_train2, label_train)\n",
        "pred = model.predict(patient_test2)\n",
        "print(\"Accuracy:\",metrics.accuracy_score(label_test, pred))"
      ]
    },
    {
      "cell_type": "code",
      "execution_count": null,
      "metadata": {
        "colab": {
          "base_uri": "https://localhost:8080/",
          "height": 415
        },
        "id": "J4STU5DJstub",
        "outputId": "3600533d-9f69-48cb-c817-9ac1f98b1bb7"
      },
      "outputs": [
        {
          "ename": "ValueError",
          "evalue": "ignored",
          "output_type": "error",
          "traceback": [
            "\u001b[0;31m---------------------------------------------------------------------------\u001b[0m",
            "\u001b[0;31mValueError\u001b[0m                                Traceback (most recent call last)",
            "\u001b[0;32m<ipython-input-8-01b74b45151e>\u001b[0m in \u001b[0;36m<module>\u001b[0;34m\u001b[0m\n\u001b[1;32m      1\u001b[0m \u001b[0mmodel\u001b[0m \u001b[0;34m=\u001b[0m \u001b[0msvm\u001b[0m\u001b[0;34m.\u001b[0m\u001b[0mSVC\u001b[0m\u001b[0;34m(\u001b[0m\u001b[0mkernel\u001b[0m \u001b[0;34m=\u001b[0m \u001b[0;34m'bessel'\u001b[0m\u001b[0;34m)\u001b[0m\u001b[0;34m\u001b[0m\u001b[0;34m\u001b[0m\u001b[0m\n\u001b[0;32m----> 2\u001b[0;31m \u001b[0mmodel\u001b[0m\u001b[0;34m.\u001b[0m\u001b[0mfit\u001b[0m\u001b[0;34m(\u001b[0m\u001b[0mpatient_train2\u001b[0m\u001b[0;34m,\u001b[0m \u001b[0mlabel_train\u001b[0m\u001b[0;34m)\u001b[0m\u001b[0;34m\u001b[0m\u001b[0;34m\u001b[0m\u001b[0m\n\u001b[0m\u001b[1;32m      3\u001b[0m \u001b[0mpred\u001b[0m \u001b[0;34m=\u001b[0m \u001b[0mmodel\u001b[0m\u001b[0;34m.\u001b[0m\u001b[0mpredict\u001b[0m\u001b[0;34m(\u001b[0m\u001b[0mpatient_test2\u001b[0m\u001b[0;34m)\u001b[0m\u001b[0;34m\u001b[0m\u001b[0;34m\u001b[0m\u001b[0m\n\u001b[1;32m      4\u001b[0m \u001b[0mprint\u001b[0m\u001b[0;34m(\u001b[0m\u001b[0;34m\"Accuracy:\"\u001b[0m\u001b[0;34m,\u001b[0m\u001b[0mmetrics\u001b[0m\u001b[0;34m.\u001b[0m\u001b[0maccuracy_score\u001b[0m\u001b[0;34m(\u001b[0m\u001b[0mlabel_test\u001b[0m\u001b[0;34m,\u001b[0m \u001b[0mpred\u001b[0m\u001b[0;34m)\u001b[0m\u001b[0;34m)\u001b[0m\u001b[0;34m\u001b[0m\u001b[0;34m\u001b[0m\u001b[0m\n",
            "\u001b[0;32m/usr/local/lib/python3.7/dist-packages/sklearn/svm/_base.py\u001b[0m in \u001b[0;36mfit\u001b[0;34m(self, X, y, sample_weight)\u001b[0m\n\u001b[1;32m    253\u001b[0m \u001b[0;34m\u001b[0m\u001b[0m\n\u001b[1;32m    254\u001b[0m         \u001b[0mseed\u001b[0m \u001b[0;34m=\u001b[0m \u001b[0mrnd\u001b[0m\u001b[0;34m.\u001b[0m\u001b[0mrandint\u001b[0m\u001b[0;34m(\u001b[0m\u001b[0mnp\u001b[0m\u001b[0;34m.\u001b[0m\u001b[0miinfo\u001b[0m\u001b[0;34m(\u001b[0m\u001b[0;34m\"i\"\u001b[0m\u001b[0;34m)\u001b[0m\u001b[0;34m.\u001b[0m\u001b[0mmax\u001b[0m\u001b[0;34m)\u001b[0m\u001b[0;34m\u001b[0m\u001b[0;34m\u001b[0m\u001b[0m\n\u001b[0;32m--> 255\u001b[0;31m         \u001b[0mfit\u001b[0m\u001b[0;34m(\u001b[0m\u001b[0mX\u001b[0m\u001b[0;34m,\u001b[0m \u001b[0my\u001b[0m\u001b[0;34m,\u001b[0m \u001b[0msample_weight\u001b[0m\u001b[0;34m,\u001b[0m \u001b[0msolver_type\u001b[0m\u001b[0;34m,\u001b[0m \u001b[0mkernel\u001b[0m\u001b[0;34m,\u001b[0m \u001b[0mrandom_seed\u001b[0m\u001b[0;34m=\u001b[0m\u001b[0mseed\u001b[0m\u001b[0;34m)\u001b[0m\u001b[0;34m\u001b[0m\u001b[0;34m\u001b[0m\u001b[0m\n\u001b[0m\u001b[1;32m    256\u001b[0m         \u001b[0;31m# see comment on the other call to np.iinfo in this file\u001b[0m\u001b[0;34m\u001b[0m\u001b[0;34m\u001b[0m\u001b[0;34m\u001b[0m\u001b[0m\n\u001b[1;32m    257\u001b[0m \u001b[0;34m\u001b[0m\u001b[0m\n",
            "\u001b[0;32m/usr/local/lib/python3.7/dist-packages/sklearn/svm/_base.py\u001b[0m in \u001b[0;36m_dense_fit\u001b[0;34m(self, X, y, sample_weight, solver_type, kernel, random_seed)\u001b[0m\n\u001b[1;32m    331\u001b[0m             \u001b[0mepsilon\u001b[0m\u001b[0;34m=\u001b[0m\u001b[0mself\u001b[0m\u001b[0;34m.\u001b[0m\u001b[0mepsilon\u001b[0m\u001b[0;34m,\u001b[0m\u001b[0;34m\u001b[0m\u001b[0;34m\u001b[0m\u001b[0m\n\u001b[1;32m    332\u001b[0m             \u001b[0mmax_iter\u001b[0m\u001b[0;34m=\u001b[0m\u001b[0mself\u001b[0m\u001b[0;34m.\u001b[0m\u001b[0mmax_iter\u001b[0m\u001b[0;34m,\u001b[0m\u001b[0;34m\u001b[0m\u001b[0;34m\u001b[0m\u001b[0m\n\u001b[0;32m--> 333\u001b[0;31m             \u001b[0mrandom_seed\u001b[0m\u001b[0;34m=\u001b[0m\u001b[0mrandom_seed\u001b[0m\u001b[0;34m,\u001b[0m\u001b[0;34m\u001b[0m\u001b[0;34m\u001b[0m\u001b[0m\n\u001b[0m\u001b[1;32m    334\u001b[0m         )\n\u001b[1;32m    335\u001b[0m \u001b[0;34m\u001b[0m\u001b[0m\n",
            "\u001b[0;32msklearn/svm/_libsvm.pyx\u001b[0m in \u001b[0;36msklearn.svm._libsvm.fit\u001b[0;34m()\u001b[0m\n",
            "\u001b[0;31mValueError\u001b[0m: 'bessel' is not in list"
          ]
        }
      ],
      "source": [
        "model = svm.SVC(kernel = 'bessel')\n",
        "model.fit(patient_train2, label_train)\n",
        "pred = model.predict(patient_test2)\n",
        "print(\"Accuracy:\",metrics.accuracy_score(label_test, pred))"
      ]
    },
    {
      "cell_type": "markdown",
      "metadata": {
        "id": "OUAM_v_9sMa1"
      },
      "source": [
        "Margin Changes to C value"
      ]
    },
    {
      "cell_type": "code",
      "execution_count": null,
      "metadata": {
        "colab": {
          "base_uri": "https://localhost:8080/"
        },
        "id": "ZIF0urGssPBY",
        "outputId": "a94bb23b-852e-419e-d4e3-7aa0b61c40d3"
      },
      "outputs": [
        {
          "name": "stdout",
          "output_type": "stream",
          "text": [
            "Accuracy: 0.9620305406520842\n"
          ]
        }
      ],
      "source": [
        "model = svm.SVC(kernel = 'linear', C = 0.0000001)\n",
        "model.fit(patient_train2, label_train)\n",
        "pred = model.predict(patient_test2)\n",
        "print(\"Accuracy:\",metrics.accuracy_score(label_test, pred))"
      ]
    },
    {
      "cell_type": "markdown",
      "metadata": {
        "id": "ZOYtXb0CMNsY"
      },
      "source": [
        "# RT Models"
      ]
    },
    {
      "cell_type": "markdown",
      "metadata": {
        "id": "nJAP4GQJmgn-"
      },
      "source": [
        "RT Model"
      ]
    },
    {
      "cell_type": "code",
      "execution_count": null,
      "metadata": {
        "colab": {
          "base_uri": "https://localhost:8080/"
        },
        "id": "1fvVsp5nmiST",
        "outputId": "d5fb0a72-4e47-4e4b-bf72-a807f65aec69"
      },
      "outputs": [
        {
          "name": "stdout",
          "output_type": "stream",
          "text": [
            "Accuracy: 0.9570780024762691\n"
          ]
        }
      ],
      "source": [
        "model=RandomForestClassifier(n_estimators=100)\n",
        "model.fit(patient_train2, label_train)\n",
        "pred1 = model.predict(patient_test2)\n",
        "print(\"Accuracy:\",metrics.accuracy_score(label_test, pred1))"
      ]
    },
    {
      "cell_type": "markdown",
      "metadata": {
        "id": "d4gtBIvZHQZE"
      },
      "source": [
        "RT optimization using search CV"
      ]
    },
    {
      "cell_type": "code",
      "execution_count": null,
      "metadata": {
        "colab": {
          "base_uri": "https://localhost:8080/"
        },
        "id": "N0nwoFefHXMG",
        "outputId": "913774c2-472b-4321-df2e-0872b8bd3bc4"
      },
      "outputs": [
        {
          "name": "stdout",
          "output_type": "stream",
          "text": [
            "{'n_estimators': [200, 400, 600, 800, 1000, 1200, 1400, 1600, 1800, 2000], 'max_features': ['auto', 'sqrt'], 'max_depth': [10, 20, 30, 40, 50, 60, 70, 80, 90, 100, 110, None], 'min_samples_split': [2, 5, 10], 'min_samples_leaf': [1, 2, 4], 'bootstrap': [True, False]}\n",
            "Fitting 3 folds for each of 5 candidates, totalling 15 fits\n",
            "[CV] END bootstrap=True, max_depth=50, max_features=sqrt, min_samples_leaf=2, min_samples_split=10, n_estimators=200; total time= 1.9min\n",
            "[CV] END bootstrap=True, max_depth=50, max_features=sqrt, min_samples_leaf=2, min_samples_split=10, n_estimators=200; total time= 1.9min\n",
            "[CV] END bootstrap=True, max_depth=50, max_features=sqrt, min_samples_leaf=2, min_samples_split=10, n_estimators=200; total time= 1.9min\n",
            "[CV] END bootstrap=False, max_depth=90, max_features=sqrt, min_samples_leaf=4, min_samples_split=10, n_estimators=600; total time= 8.6min\n",
            "[CV] END bootstrap=False, max_depth=90, max_features=sqrt, min_samples_leaf=4, min_samples_split=10, n_estimators=600; total time= 8.5min\n",
            "[CV] END bootstrap=False, max_depth=90, max_features=sqrt, min_samples_leaf=4, min_samples_split=10, n_estimators=600; total time= 8.4min\n",
            "[CV] END bootstrap=False, max_depth=60, max_features=auto, min_samples_leaf=2, min_samples_split=2, n_estimators=600; total time= 9.3min\n",
            "[CV] END bootstrap=False, max_depth=60, max_features=auto, min_samples_leaf=2, min_samples_split=2, n_estimators=600; total time= 9.1min\n",
            "[CV] END bootstrap=False, max_depth=60, max_features=auto, min_samples_leaf=2, min_samples_split=2, n_estimators=600; total time= 9.1min\n",
            "[CV] END bootstrap=True, max_depth=30, max_features=sqrt, min_samples_leaf=1, min_samples_split=5, n_estimators=1400; total time=14.4min\n",
            "[CV] END bootstrap=True, max_depth=30, max_features=sqrt, min_samples_leaf=1, min_samples_split=5, n_estimators=1400; total time=14.1min\n",
            "[CV] END bootstrap=True, max_depth=30, max_features=sqrt, min_samples_leaf=1, min_samples_split=5, n_estimators=1400; total time=14.7min\n",
            "[CV] END bootstrap=False, max_depth=80, max_features=auto, min_samples_leaf=1, min_samples_split=10, n_estimators=1000; total time=17.1min\n",
            "[CV] END bootstrap=False, max_depth=80, max_features=auto, min_samples_leaf=1, min_samples_split=10, n_estimators=1000; total time=16.7min\n",
            "[CV] END bootstrap=False, max_depth=80, max_features=auto, min_samples_leaf=1, min_samples_split=10, n_estimators=1000; total time=16.9min\n",
            "0.9768881551795295\n"
          ]
        }
      ],
      "source": [
        "from sklearn.model_selection import RandomizedSearchCV\n",
        "# Number of trees in random forest\n",
        "n_estimators = [int(x) for x in np.linspace(start = 200, stop = 2000, num = 10)]\n",
        "# Number of features to consider at every split\n",
        "max_features = ['auto', 'sqrt']\n",
        "# Maximum number of levels in tree\n",
        "max_depth = [int(x) for x in np.linspace(10, 110, num = 11)]\n",
        "max_depth.append(None)\n",
        "# Minimum number of samples required to split a node\n",
        "min_samples_split = [2, 5, 10]\n",
        "# Minimum number of samples required at each leaf node\n",
        "min_samples_leaf = [1, 2, 4]\n",
        "# Method of selecting samples for training each tree\n",
        "bootstrap = [True, False]\n",
        "# Create the random grid\n",
        "random_grid = {'n_estimators': n_estimators,\n",
        "               'max_features': max_features,\n",
        "               'max_depth': max_depth,\n",
        "               'min_samples_split': min_samples_split,\n",
        "               'min_samples_leaf': min_samples_leaf,\n",
        "               'bootstrap': bootstrap}\n",
        "print(random_grid)\n",
        "rf = RandomForestClassifier()\n",
        "# Random search of parameters, using 3 fold cross validation,\n",
        "# search across 100 different combinations, and use all available cores\n",
        "rf_random = RandomizedSearchCV(estimator = rf, param_distributions = random_grid, n_iter = 20, cv = 3, verbose=2, random_state=42)\n",
        "# Fit the random search model\n",
        "rf_random.fit(patient_train2, label_train)\n",
        "rf_random.best_params_\n",
        "def evaluate(model, test_features, test_labels):\n",
        "    predictions = model.predict(test_features)\n",
        "    errors = abs(predictions - test_labels)\n",
        "    mape = 100 * np.mean(errors / test_labels)\n",
        "    accuracy = 100 - mape\n",
        "    print('Model Performance')\n",
        "    print('Average Error: {:0.4f} degrees.'.format(np.mean(errors)))\n",
        "    print('Accuracy = {:0.2f}%.'.format(accuracy))\n",
        "\n",
        "    return accuracy\n",
        "\n",
        "base_accuracy = evaluate(model, patient_test2, label_test)\n",
        "best_random = rf_random.best_estimator_\n",
        "random_accuracy = evaluate(best_random, patient_test2, label_test)\n",
        "print('Improvement of {:0.2f}%.'.format( 100 * (random_accuracy - base_accuracy) / base_accuracy))"
      ]
    },
    {
      "cell_type": "code",
      "execution_count": null,
      "metadata": {
        "id": "KZ-evHzTog0f"
      },
      "outputs": [],
      "source": []
    }
  ],
  "metadata": {
    "accelerator": "GPU",
    "colab": {
      "machine_shape": "hm",
      "provenance": [],
      "gpuClass": "premium"
    },
    "gpuClass": "premium",
    "kernelspec": {
      "display_name": "Python 3",
      "name": "python3"
    },
    "language_info": {
      "name": "python"
    }
  },
  "nbformat": 4,
  "nbformat_minor": 0
}